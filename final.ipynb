{
 "cells": [
  {
   "cell_type": "code",
   "execution_count": 1,
   "metadata": {},
   "outputs": [
    {
     "name": "stderr",
     "output_type": "stream",
     "text": [
      "/anaconda3/lib/python3.6/site-packages/h5py/__init__.py:36: FutureWarning: Conversion of the second argument of issubdtype from `float` to `np.floating` is deprecated. In future, it will be treated as `np.float64 == np.dtype(float).type`.\n",
      "  from ._conv import register_converters as _register_converters\n",
      "Using TensorFlow backend.\n"
     ]
    }
   ],
   "source": [
    "from keras.datasets import fashion_mnist\n",
    "import keras\n",
    "from keras.models import Sequential,Input,Model\n",
    "from keras.layers import Dense, Dropout, Flatten\n",
    "from keras.layers import Conv2D, MaxPooling2D\n",
    "from keras.layers.normalization import BatchNormalization\n",
    "from keras.layers.advanced_activations import LeakyReLU\n",
    "from keras.preprocessing import image\n",
    "import numpy as np\n",
    "from keras.utils import to_categorical\n",
    "from sklearn.model_selection import train_test_split\n",
    "import matplotlib.pyplot as plt\n",
    "import cv2\n",
    "%matplotlib inline"
   ]
  },
  {
   "cell_type": "code",
   "execution_count": 2,
   "metadata": {},
   "outputs": [],
   "source": [
    "img_path_fist = \"images_data/fist/\"\n",
    "img_path_hand = \"images_data/hand/\"\n",
    "img_path_one = \"images_data/one/\"\n",
    "img_path_peace = \"images_data/peace/\"\n",
    "img_path_none = \"images_data/none/\""
   ]
  },
  {
   "cell_type": "code",
   "execution_count": 3,
   "metadata": {
    "scrolled": true
   },
   "outputs": [
    {
     "name": "stderr",
     "output_type": "stream",
     "text": [
      "/anaconda3/lib/python3.6/site-packages/keras_preprocessing/image.py:492: UserWarning: grayscale is deprecated. Please use color_mode = \"grayscale\"\n",
      "  warnings.warn('grayscale is deprecated. Please use '\n"
     ]
    }
   ],
   "source": [
    "im = image.load_img(path=\"test.png\",grayscale=True,target_size=(50,50,1))\n",
    "im = image.img_to_array(im)\n",
    "# img = image.load_img(path=\"3.jpg\",grayscale=True,target_size=(28,28,1))\n",
    "# img = image.img_to_array(img)\n",
    "a = np.array([im])\n",
    "#b = np.array([img])\n",
    "#c = np.concatenate((a, b), axis=0)"
   ]
  },
  {
   "cell_type": "code",
   "execution_count": 4,
   "metadata": {
    "scrolled": true
   },
   "outputs": [
    {
     "name": "stderr",
     "output_type": "stream",
     "text": [
      "/anaconda3/lib/python3.6/site-packages/keras_preprocessing/image.py:492: UserWarning: grayscale is deprecated. Please use color_mode = \"grayscale\"\n",
      "  warnings.warn('grayscale is deprecated. Please use '\n"
     ]
    }
   ],
   "source": [
    "for i in range(2,1001):\n",
    "    im = image.load_img(path=img_path_fist + str(i) + \".jpg\", grayscale = True, target_size=(50,50,1))\n",
    "    im = image.img_to_array(im)\n",
    "    b = np.array([im])\n",
    "    a = np.concatenate((a,b), axis=0)"
   ]
  },
  {
   "cell_type": "code",
   "execution_count": 5,
   "metadata": {},
   "outputs": [
    {
     "name": "stderr",
     "output_type": "stream",
     "text": [
      "/anaconda3/lib/python3.6/site-packages/keras_preprocessing/image.py:492: UserWarning: grayscale is deprecated. Please use color_mode = \"grayscale\"\n",
      "  warnings.warn('grayscale is deprecated. Please use '\n"
     ]
    }
   ],
   "source": [
    "for i in range(1,1001):\n",
    "    im = image.load_img(path=img_path_hand + str(i) + \".jpg\", grayscale = True, target_size=(50,50,1))\n",
    "    im = image.img_to_array(im)\n",
    "    b = np.array([im])\n",
    "    a = np.concatenate((a,b), axis=0)"
   ]
  },
  {
   "cell_type": "code",
   "execution_count": 6,
   "metadata": {},
   "outputs": [
    {
     "name": "stderr",
     "output_type": "stream",
     "text": [
      "/anaconda3/lib/python3.6/site-packages/keras_preprocessing/image.py:492: UserWarning: grayscale is deprecated. Please use color_mode = \"grayscale\"\n",
      "  warnings.warn('grayscale is deprecated. Please use '\n"
     ]
    }
   ],
   "source": [
    "for i in range(43,1001):\n",
    "    im = image.load_img(path=img_path_one + str(i) + \".jpg\", grayscale = True, target_size=(50,50,1))\n",
    "    im = image.img_to_array(im)\n",
    "    b = np.array([im])\n",
    "    a = np.concatenate((a,b), axis=0)"
   ]
  },
  {
   "cell_type": "code",
   "execution_count": 7,
   "metadata": {},
   "outputs": [
    {
     "name": "stderr",
     "output_type": "stream",
     "text": [
      "/anaconda3/lib/python3.6/site-packages/keras_preprocessing/image.py:492: UserWarning: grayscale is deprecated. Please use color_mode = \"grayscale\"\n",
      "  warnings.warn('grayscale is deprecated. Please use '\n"
     ]
    }
   ],
   "source": [
    "for i in range(1,1001):\n",
    "    im = image.load_img(path=img_path_peace + str(i) + \".jpg\", grayscale = True, target_size=(50,50,1))\n",
    "    im = image.img_to_array(im)\n",
    "    b = np.array([im])\n",
    "    a = np.concatenate((a,b), axis=0)"
   ]
  },
  {
   "cell_type": "code",
   "execution_count": 8,
   "metadata": {},
   "outputs": [
    {
     "name": "stderr",
     "output_type": "stream",
     "text": [
      "/anaconda3/lib/python3.6/site-packages/keras_preprocessing/image.py:492: UserWarning: grayscale is deprecated. Please use color_mode = \"grayscale\"\n",
      "  warnings.warn('grayscale is deprecated. Please use '\n"
     ]
    }
   ],
   "source": [
    "for i in range(1,534):\n",
    "    im = image.load_img(path=img_path_none + str(i) + \".jpg\", grayscale = True, target_size=(50,50,1))\n",
    "    im = image.img_to_array(im)\n",
    "    b = np.array([im])\n",
    "    a = np.concatenate((a,b), axis=0)"
   ]
  },
  {
   "cell_type": "code",
   "execution_count": 9,
   "metadata": {},
   "outputs": [
    {
     "data": {
      "text/plain": [
       "(4491, 50, 50, 1)"
      ]
     },
     "execution_count": 9,
     "metadata": {},
     "output_type": "execute_result"
    }
   ],
   "source": [
    "a.shape"
   ]
  },
  {
   "cell_type": "code",
   "execution_count": 10,
   "metadata": {},
   "outputs": [],
   "source": [
    "f = open('file.txt', 'w+')\n",
    "z = np.array([1 for i in range(1000)], np.int32)\n",
    "b = np.array([2 for i in range(1000)], np.int32)\n",
    "c = np.array([3 for i in range(958)], np.int32)\n",
    "d = np.array([4 for i in range(1000)], np.int32)\n",
    "e = np.array([5 for i in range(533)], np.int32)\n",
    "for i in range(len(z)):\n",
    "    f.write(\"%i\\n\" % (z[i]))\n",
    "for i in range(len(b)):\n",
    "    f.write(\"%i\\n\" % (b[i]))\n",
    "for i in range(len(c)):\n",
    "    f.write(\"%i\\n\" % (c[i]))\n",
    "for i in range(len(d)):\n",
    "    f.write(\"%i\\n\" % (d[i]))\n",
    "for i in range(len(e)):\n",
    "    f.write(\"%i\\n\" % (e[i]))\n",
    "f.close()"
   ]
  },
  {
   "cell_type": "code",
   "execution_count": 11,
   "metadata": {},
   "outputs": [
    {
     "data": {
      "text/plain": [
       "(4491,)"
      ]
     },
     "execution_count": 11,
     "metadata": {},
     "output_type": "execute_result"
    }
   ],
   "source": [
    "data = np.loadtxt('file.txt', delimiter=\",\")\n",
    "data.shape"
   ]
  },
  {
   "cell_type": "code",
   "execution_count": 12,
   "metadata": {},
   "outputs": [
    {
     "name": "stdout",
     "output_type": "stream",
     "text": [
      "Total number of outputs :  5\n",
      "Output classes :  [1. 2. 3. 4. 5.]\n",
      "50\n"
     ]
    }
   ],
   "source": [
    "classes = np.unique(data)\n",
    "nClasses = len(classes)\n",
    "print('Total number of outputs : ', nClasses)\n",
    "print('Output classes : ', classes)\n",
    "print(len(a[0,:,:]))"
   ]
  },
  {
   "cell_type": "code",
   "execution_count": 13,
   "metadata": {},
   "outputs": [
    {
     "data": {
      "text/plain": [
       "(4491, 50, 50, 1)"
      ]
     },
     "execution_count": 13,
     "metadata": {},
     "output_type": "execute_result"
    }
   ],
   "source": [
    "a = a.reshape(-1, 50,50, 1)\n",
    "a.shape"
   ]
  },
  {
   "cell_type": "code",
   "execution_count": 14,
   "metadata": {},
   "outputs": [],
   "source": [
    "a = a.astype('float32')\n",
    "a = a / 255.\n",
    "data_one_hot = to_categorical(data)"
   ]
  },
  {
   "cell_type": "code",
   "execution_count": 15,
   "metadata": {},
   "outputs": [
    {
     "name": "stdout",
     "output_type": "stream",
     "text": [
      "Original label: 1.0\n",
      "After conversion to one-hot: [0. 1. 0. 0. 0. 0.]\n"
     ]
    }
   ],
   "source": [
    "print('Original label:', data[256])\n",
    "print('After conversion to one-hot:', data_one_hot[256])"
   ]
  },
  {
   "cell_type": "code",
   "execution_count": 16,
   "metadata": {},
   "outputs": [],
   "source": [
    "train_X,valid_X,train_label,valid_label = train_test_split(a, data_one_hot, test_size=0.2, random_state=13)"
   ]
  },
  {
   "cell_type": "code",
   "execution_count": 17,
   "metadata": {},
   "outputs": [
    {
     "data": {
      "text/plain": [
       "((3592, 50, 50, 1), (899, 50, 50, 1), (3592, 6), (899, 6))"
      ]
     },
     "execution_count": 17,
     "metadata": {},
     "output_type": "execute_result"
    }
   ],
   "source": [
    "train_X.shape,valid_X.shape,train_label.shape,valid_label.shape"
   ]
  },
  {
   "cell_type": "code",
   "execution_count": 18,
   "metadata": {},
   "outputs": [],
   "source": [
    "batch_size = 64\n",
    "epochs = 20\n",
    "num_classes = 6"
   ]
  },
  {
   "cell_type": "code",
   "execution_count": 19,
   "metadata": {},
   "outputs": [],
   "source": [
    "fashion_model = Sequential()\n",
    "fashion_model.add(Conv2D(32, kernel_size=(3, 3),activation='linear',input_shape=(50,50,1),padding='same'))\n",
    "fashion_model.add(LeakyReLU(alpha=0.1))\n",
    "fashion_model.add(MaxPooling2D((2, 2),padding='same'))\n",
    "fashion_model.add(Conv2D(64, (3, 3), activation='linear',padding='same'))\n",
    "fashion_model.add(LeakyReLU(alpha=0.1))\n",
    "fashion_model.add(MaxPooling2D(pool_size=(2, 2),padding='same'))\n",
    "fashion_model.add(Conv2D(128, (3, 3), activation='linear',padding='same'))\n",
    "fashion_model.add(LeakyReLU(alpha=0.1))                  \n",
    "fashion_model.add(MaxPooling2D(pool_size=(2, 2),padding='same'))\n",
    "fashion_model.add(Flatten())\n",
    "fashion_model.add(Dense(128, activation='linear'))\n",
    "fashion_model.add(LeakyReLU(alpha=0.1))                  \n",
    "fashion_model.add(Dense(num_classes, activation='softmax'))"
   ]
  },
  {
   "cell_type": "code",
   "execution_count": 20,
   "metadata": {},
   "outputs": [],
   "source": [
    "fashion_model.compile(loss=keras.losses.categorical_crossentropy, optimizer=keras.optimizers.Adam(),metrics=['accuracy'])"
   ]
  },
  {
   "cell_type": "code",
   "execution_count": 21,
   "metadata": {},
   "outputs": [
    {
     "name": "stdout",
     "output_type": "stream",
     "text": [
      "_________________________________________________________________\n",
      "Layer (type)                 Output Shape              Param #   \n",
      "=================================================================\n",
      "conv2d_1 (Conv2D)            (None, 50, 50, 32)        320       \n",
      "_________________________________________________________________\n",
      "leaky_re_lu_1 (LeakyReLU)    (None, 50, 50, 32)        0         \n",
      "_________________________________________________________________\n",
      "max_pooling2d_1 (MaxPooling2 (None, 25, 25, 32)        0         \n",
      "_________________________________________________________________\n",
      "conv2d_2 (Conv2D)            (None, 25, 25, 64)        18496     \n",
      "_________________________________________________________________\n",
      "leaky_re_lu_2 (LeakyReLU)    (None, 25, 25, 64)        0         \n",
      "_________________________________________________________________\n",
      "max_pooling2d_2 (MaxPooling2 (None, 13, 13, 64)        0         \n",
      "_________________________________________________________________\n",
      "conv2d_3 (Conv2D)            (None, 13, 13, 128)       73856     \n",
      "_________________________________________________________________\n",
      "leaky_re_lu_3 (LeakyReLU)    (None, 13, 13, 128)       0         \n",
      "_________________________________________________________________\n",
      "max_pooling2d_3 (MaxPooling2 (None, 7, 7, 128)         0         \n",
      "_________________________________________________________________\n",
      "flatten_1 (Flatten)          (None, 6272)              0         \n",
      "_________________________________________________________________\n",
      "dense_1 (Dense)              (None, 128)               802944    \n",
      "_________________________________________________________________\n",
      "leaky_re_lu_4 (LeakyReLU)    (None, 128)               0         \n",
      "_________________________________________________________________\n",
      "dense_2 (Dense)              (None, 6)                 774       \n",
      "=================================================================\n",
      "Total params: 896,390\n",
      "Trainable params: 896,390\n",
      "Non-trainable params: 0\n",
      "_________________________________________________________________\n"
     ]
    }
   ],
   "source": [
    "fashion_model.summary()"
   ]
  },
  {
   "cell_type": "code",
   "execution_count": 22,
   "metadata": {},
   "outputs": [
    {
     "name": "stdout",
     "output_type": "stream",
     "text": [
      "Train on 3592 samples, validate on 899 samples\n",
      "Epoch 1/20\n",
      "3592/3592 [==============================] - 12s 3ms/step - loss: 0.3720 - acc: 0.8527 - val_loss: 0.0170 - val_acc: 1.0000\n",
      "Epoch 2/20\n",
      "3592/3592 [==============================] - 12s 3ms/step - loss: 0.0049 - acc: 0.9994 - val_loss: 8.0781e-04 - val_acc: 1.0000\n",
      "Epoch 3/20\n",
      "3592/3592 [==============================] - 13s 4ms/step - loss: 5.5156e-04 - acc: 1.0000 - val_loss: 2.1125e-04 - val_acc: 1.0000\n",
      "Epoch 4/20\n",
      "3592/3592 [==============================] - 12s 3ms/step - loss: 1.4027e-04 - acc: 1.0000 - val_loss: 1.4148e-04 - val_acc: 1.0000\n",
      "Epoch 5/20\n",
      "3592/3592 [==============================] - 12s 3ms/step - loss: 8.3222e-05 - acc: 1.0000 - val_loss: 8.6497e-05 - val_acc: 1.0000\n",
      "Epoch 6/20\n",
      "3592/3592 [==============================] - 12s 3ms/step - loss: 5.9351e-05 - acc: 1.0000 - val_loss: 7.4394e-05 - val_acc: 1.0000\n",
      "Epoch 7/20\n",
      "3592/3592 [==============================] - 12s 3ms/step - loss: 4.5211e-05 - acc: 1.0000 - val_loss: 5.9526e-05 - val_acc: 1.0000\n",
      "Epoch 8/20\n",
      "3592/3592 [==============================] - 12s 3ms/step - loss: 3.5407e-05 - acc: 1.0000 - val_loss: 4.4654e-05 - val_acc: 1.0000\n",
      "Epoch 9/20\n",
      "3592/3592 [==============================] - 12s 3ms/step - loss: 2.8909e-05 - acc: 1.0000 - val_loss: 3.8147e-05 - val_acc: 1.0000\n",
      "Epoch 10/20\n",
      "3592/3592 [==============================] - 12s 3ms/step - loss: 2.3945e-05 - acc: 1.0000 - val_loss: 3.1964e-05 - val_acc: 1.0000\n",
      "Epoch 11/20\n",
      "3592/3592 [==============================] - 12s 3ms/step - loss: 1.9827e-05 - acc: 1.0000 - val_loss: 3.1548e-05 - val_acc: 1.0000\n",
      "Epoch 12/20\n",
      "3592/3592 [==============================] - 12s 3ms/step - loss: 1.7042e-05 - acc: 1.0000 - val_loss: 2.4296e-05 - val_acc: 1.0000\n",
      "Epoch 13/20\n",
      "3592/3592 [==============================] - 13s 3ms/step - loss: 1.5120e-05 - acc: 1.0000 - val_loss: 1.9322e-05 - val_acc: 1.0000\n",
      "Epoch 14/20\n",
      "3592/3592 [==============================] - 12s 3ms/step - loss: 1.2817e-05 - acc: 1.0000 - val_loss: 1.7407e-05 - val_acc: 1.0000\n",
      "Epoch 15/20\n",
      "3592/3592 [==============================] - 12s 3ms/step - loss: 1.1180e-05 - acc: 1.0000 - val_loss: 1.6288e-05 - val_acc: 1.0000\n",
      "Epoch 16/20\n",
      "3592/3592 [==============================] - 13s 4ms/step - loss: 9.8695e-06 - acc: 1.0000 - val_loss: 1.4658e-05 - val_acc: 1.0000\n",
      "Epoch 17/20\n",
      "3592/3592 [==============================] - 12s 3ms/step - loss: 8.7916e-06 - acc: 1.0000 - val_loss: 1.3791e-05 - val_acc: 1.0000\n",
      "Epoch 18/20\n",
      "3592/3592 [==============================] - 12s 3ms/step - loss: 7.9394e-06 - acc: 1.0000 - val_loss: 1.2368e-05 - val_acc: 1.0000\n",
      "Epoch 19/20\n",
      "3592/3592 [==============================] - 12s 3ms/step - loss: 7.1735e-06 - acc: 1.0000 - val_loss: 1.1579e-05 - val_acc: 1.0000\n",
      "Epoch 20/20\n",
      "3592/3592 [==============================] - 12s 3ms/step - loss: 6.5149e-06 - acc: 1.0000 - val_loss: 1.0816e-05 - val_acc: 1.0000\n"
     ]
    }
   ],
   "source": [
    "fashion_train = fashion_model.fit(train_X, train_label, \n",
    "                                  batch_size=batch_size,\n",
    "                                  epochs=epochs,\n",
    "                                  verbose=1,\n",
    "                                  validation_data=(valid_X, valid_label))"
   ]
  },
  {
   "cell_type": "code",
   "execution_count": null,
   "metadata": {},
   "outputs": [],
   "source": []
  },
  {
   "cell_type": "code",
   "execution_count": 101,
   "metadata": {},
   "outputs": [
    {
     "data": {
      "image/png": "[encoded data removed]",
      "text/plain": [
       "<Figure size 432x288 with 4 Axes>"
      ]
     },
     "metadata": {},
     "output_type": "display_data"
    },
    {
     "name": "stdout",
     "output_type": "stream",
     "text": [
      "[[0 0 0 ... 0 0 0]\n",
      " [0 0 0 ... 0 0 0]\n",
      " [0 0 0 ... 0 0 0]\n",
      " ...\n",
      " [0 0 0 ... 0 0 0]\n",
      " [0 0 0 ... 0 0 0]\n",
      " [0 0 0 ... 0 0 0]]\n"
     ]
    }
   ],
   "source": [
    "\n",
    "img = cv2.imread('5.jpg',0)\n",
    "img = cv2.medianBlur(img,5)\n",
    "ret,th1 = cv2.threshold(img,80,255,cv2.THRESH_BINARY)\n",
    "th2 = cv2.adaptiveThreshold(img,255,cv2.ADAPTIVE_THRESH_MEAN_C,\\\n",
    "            cv2.THRESH_BINARY,11,2)\n",
    "th3 = cv2.adaptiveThreshold(img,255,cv2.ADAPTIVE_THRESH_GAUSSIAN_C,\\\n",
    "            cv2.THRESH_BINARY,11,2)\n",
    "titles = ['Original Image', 'Global Thresholding (v = 127)',\n",
    "            'Adaptive Mean Thresholding', 'Adaptive Gaussian Thresholding']\n",
    "images = [img, th1, th2, th3]\n",
    "for i in range(4):\n",
    "    plt.subplot(2,2,i+1),plt.imshow(images[i],'gray')\n",
    "    plt.title(titles[i])\n",
    "    plt.xticks([]),plt.yticks([])\n",
    "plt.show()\n",
    "\n",
    "print(th1)"
   ]
  },
  {
   "cell_type": "code",
   "execution_count": 102,
   "metadata": {},
   "outputs": [],
   "source": [
    "th1 = cv2.resize(th1, (50, 50)) \n",
    "th1 = image.img_to_array(th1)\n",
    "npa = np.array([th1])\n",
    "predicted_classes = fashion_model.predict(npa)"
   ]
  },
  {
   "cell_type": "code",
   "execution_count": 103,
   "metadata": {},
   "outputs": [
    {
     "name": "stdout",
     "output_type": "stream",
     "text": [
      "[[0. 0. 0. 0. 1. 0.]]\n"
     ]
    }
   ],
   "source": [
    "print(predicted_classes)"
   ]
  },
  {
   "cell_type": "code",
   "execution_count": null,
   "metadata": {},
   "outputs": [],
   "source": []
  },
  {
   "cell_type": "code",
   "execution_count": null,
   "metadata": {},
   "outputs": [],
   "source": []
  }
 ],
 "metadata": {
  "kernelspec": {
   "display_name": "Python 3",
   "language": "python",
   "name": "python3"
  },
  "language_info": {
   "codemirror_mode": {
    "name": "ipython",
    "version": 3
   },
   "file_extension": ".py",
   "mimetype": "text/x-python",
   "name": "python",
   "nbconvert_exporter": "python",
   "pygments_lexer": "ipython3",
   "version": "3.6.5"
  }
 },
 "nbformat": 4,
 "nbformat_minor": 2
}
